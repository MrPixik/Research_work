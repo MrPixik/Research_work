{
 "cells": [
  {
   "cell_type": "code",
   "execution_count": null,
   "id": "1fe38169",
   "metadata": {},
   "outputs": [
    {
     "ename": "ModuleNotFoundError",
     "evalue": "No module named 'app'",
     "output_type": "error",
     "traceback": [
      "\u001b[31m---------------------------------------------------------------------------\u001b[39m",
      "\u001b[31mModuleNotFoundError\u001b[39m                       Traceback (most recent call last)",
      "\u001b[36mCell\u001b[39m\u001b[36m \u001b[39m\u001b[32mIn[1]\u001b[39m\u001b[32m, line 3\u001b[39m\n\u001b[32m      1\u001b[39m \u001b[38;5;28;01mimport\u001b[39;00m\u001b[38;5;250m \u001b[39m\u001b[34;01mmne\u001b[39;00m\n\u001b[32m      2\u001b[39m \u001b[38;5;28;01mfrom\u001b[39;00m\u001b[38;5;250m \u001b[39m\u001b[34;01mmne\u001b[39;00m\u001b[34;01m.\u001b[39;00m\u001b[34;01mpreprocessing\u001b[39;00m\u001b[38;5;250m \u001b[39m\u001b[38;5;28;01mimport\u001b[39;00m ICA\n\u001b[32m----> \u001b[39m\u001b[32m3\u001b[39m \u001b[38;5;28;01mfrom\u001b[39;00m\u001b[38;5;250m \u001b[39m\u001b[34;01mapp\u001b[39;00m\u001b[34;01m.\u001b[39;00m\u001b[34;01meeg\u001b[39;00m\u001b[34;01m.\u001b[39;00m\u001b[34;01mlib\u001b[39;00m\u001b[34;01m.\u001b[39;00m\u001b[34;01mpaths\u001b[39;00m\u001b[38;5;250m \u001b[39m\u001b[38;5;28;01mimport\u001b[39;00m *\n\u001b[32m      4\u001b[39m \u001b[38;5;28;01mfrom\u001b[39;00m\u001b[38;5;250m \u001b[39m\u001b[34;01mapp\u001b[39;00m\u001b[34;01m.\u001b[39;00m\u001b[34;01meeg\u001b[39;00m\u001b[34;01m.\u001b[39;00m\u001b[34;01mreverse_problem\u001b[39;00m\u001b[34;01m.\u001b[39;00m\u001b[34;01mreverse_problem\u001b[39;00m\u001b[38;5;250m \u001b[39m\u001b[38;5;28;01mimport\u001b[39;00m *\n\u001b[32m      5\u001b[39m \u001b[38;5;28;01mfrom\u001b[39;00m\u001b[38;5;250m \u001b[39m\u001b[34;01mtqdm\u001b[39;00m\u001b[38;5;250m \u001b[39m\u001b[38;5;28;01mimport\u001b[39;00m tqdm\n",
      "\u001b[31mModuleNotFoundError\u001b[39m: No module named 'app'"
     ]
    }
   ],
   "source": [
    "import mne\n",
    "from mne.datasets import fetch_fsaverage\n",
    "from app.eeg.reverse_problem.reverse_problem import *\n",
    "from mne.preprocessing import ICA\n",
    "from app.eeg.lib.paths import *\n",
    "from tqdm import tqdm\n"
   ]
  },
  {
   "cell_type": "code",
   "execution_count": null,
   "id": "3f9a2ee6",
   "metadata": {},
   "outputs": [],
   "source": [
    "data_path = get_raw_data_path(AUD_PACKAGE_NAME, 1, Path(__file__))\n",
    "stcs_avg = compute_ica_inverse(data_path)\n",
    "\n",
    "subject='fsaverage'\n",
    "subjects_dir=fetch_fsaverage(verbose=True)\n",
    "\n",
    "for idx, stc_avg in enumerate(stcs_avg):\n",
    "    print(f\"Построение компоненты {idx + 1}/{len(stcs_avg)}\")\n",
    "    stc_avg.plot(\n",
    "        subject=subject,\n",
    "        subjects_dir=subjects_dir,\n",
    "        hemi='both',            # два полушария\n",
    "        time_label='Средняя активность',\n",
    "        title=f'ICA-компонента {idx+1} (усредн.)',\n",
    "        size=(800, 600),        # размер окна\n",
    "        background='white',     # фон\n",
    "        cortex='low_contrast'   # отображение коры\n",
    "    )"
   ]
  }
 ],
 "metadata": {
  "kernelspec": {
   "display_name": "Python 3",
   "language": "python",
   "name": "python3"
  },
  "language_info": {
   "codemirror_mode": {
    "name": "ipython",
    "version": 3
   },
   "file_extension": ".py",
   "mimetype": "text/x-python",
   "name": "python",
   "nbconvert_exporter": "python",
   "pygments_lexer": "ipython3",
   "version": "3.13.3"
  }
 },
 "nbformat": 4,
 "nbformat_minor": 5
}

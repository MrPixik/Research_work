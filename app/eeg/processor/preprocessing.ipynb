{
 "cells": [
  {
   "cell_type": "code",
   "execution_count": 21,
   "id": "initial_id",
   "metadata": {
    "collapsed": true,
    "is_executing": true
   },
   "outputs": [],
   "source": [
    "import mne\n",
    "# %matplotlib inline\n",
    "%matplotlib tk\n",
    "import matplotlib\n",
    "import matplotlib.pyplot as plt\n",
    "import numpy as np\n",
    "data_path = r'..\\..\\..\\app\\eeg\\static\\eeg_data\\raw\\aud-norm\\11.set'"
   ]
  },
  {
   "cell_type": "code",
   "execution_count": 22,
   "id": "311da684",
   "metadata": {},
   "outputs": [],
   "source": [
    "mne.set_log_level('ERROR')\n",
    "raw = mne.io.read_raw_eeglab(data_path, preload=True)\n",
    "raw.crop(tmax=30).load_data()\n",
    "fig = raw.plot_sensors(show_names=True, show=False)\n",
    "\n",
    "# fig_raw = raw.plot(duration=30,remove_dc=False, title='Raw EEG Data')\n",
    "# fig_raw.suptitle(\"Raw data\")"
   ]
  },
  {
   "cell_type": "code",
   "execution_count": null,
   "id": "425d62c6336f087a",
   "metadata": {
    "collapsed": false,
    "is_executing": true
   },
   "outputs": [
    {
     "data": {
      "text/plain": [
       "Text(0.5, 0.98, 'Raw data')"
      ]
     },
     "execution_count": 10,
     "metadata": {},
     "output_type": "execute_result"
    }
   ],
   "source": [
    "mne.set_log_level('ERROR')\n",
    "raw = mne.io.read_raw_eeglab(data_path, preload=True)\n",
    "raw.crop(tmax=30).load_data()\n",
    "fig = raw.plot_sensors(show_names=True, show=False)\n"
   ]
  },
  {
   "cell_type": "markdown",
   "id": "7998105f62e0977",
   "metadata": {
    "collapsed": false
   },
   "source": [
    "## Частотная фильтрация\n",
    "применяется фильтр с конечной импульсивной характеристикой FIR.\n",
    "оставляем частоты в диапазоне от 16 до 22 Гц"
   ]
  },
  {
   "cell_type": "code",
   "execution_count": null,
   "id": "12e2ad5b60fcf031",
   "metadata": {
    "collapsed": false
   },
   "outputs": [],
   "source": [
    "# Убираем низкие частоты + ставим ограничение до 45 Гц\n",
    "raw_filtered_low_freq_drifts = raw.copy().filter(l_freq=16.0,h_freq=22.0)"
   ]
  },
  {
   "cell_type": "code",
   "execution_count": null,
   "id": "2c1180bd317901cc",
   "metadata": {
    "collapsed": false
   },
   "outputs": [],
   "source": [
    "# Построение графика исходных данных\n",
    "fig_raw = raw.plot(duration=30,remove_dc=False, title='Raw EEG Data')\n",
    "fig_raw.suptitle(\"Raw data\")\n",
    "\n",
    "# Построение графика после применения частотной фильтрации\n",
    "fig = raw_filtered_low_freq_drifts.plot(duration=30,remove_dc=False)\n",
    "fig.suptitle(\"Filtered low frequency\") "
   ]
  },
  {
   "cell_type": "code",
   "execution_count": null,
   "id": "4f74d9540c509ad0",
   "metadata": {
    "collapsed": false
   },
   "outputs": [],
   "source": [
    "fig_raw = raw.plot_psd(fmin=1, fmax=40, show=True)\n",
    "fig_raw.suptitle(\"Raw data\")\n",
    "\n",
    "fig = raw_filtered_low_freq_drifts.plot_psd(fmin=16, fmax=22, show=True)\n",
    "fig.suptitle(\"Filtered low frequency\") "
   ]
  },
  {
   "cell_type": "markdown",
   "id": "53ba614f95e09fd0",
   "metadata": {
    "collapsed": false
   },
   "source": [
    "## Устранение глазодвигательных артефактов\n",
    "Вручную выставляем какой-то канал как EOG, чтобы потом применить автоматический поиск артефактов с помощью ICA"
   ]
  },
  {
   "cell_type": "code",
   "execution_count": null,
   "id": "70e81edd64684d89",
   "metadata": {
    "collapsed": false
   },
   "outputs": [],
   "source": [
    "from mne.preprocessing import ICA\n",
    "\n",
    "raw_filtered_low_freq_drifts.set_channel_types({'E127': 'eog'})\n",
    "\n",
    "ica = ICA(n_components=20, random_state=97)\n",
    "ica.fit(raw_filtered_low_freq_drifts)\n",
    "\n",
    "eog_indices, _ = ica.find_bads_eog(raw_filtered_low_freq_drifts, threshold=0.5)\n",
    "ica.exclude = eog_indices\n",
    "\n",
    "raw_clean = ica.apply(raw_filtered_low_freq_drifts)\n",
    "fig = raw_clean.plot()\n",
    "fig.suptitle(\"Filtered ICA\") \n"
   ]
  },
  {
   "cell_type": "code",
   "execution_count": null,
   "id": "9946af36e3852fef",
   "metadata": {
    "collapsed": false
   },
   "outputs": [],
   "source": [
    "fig = raw_clean.plot_psd(fmin=1, fmax=40, show=True)\n",
    "fig.suptitle(\"Filtered ICA\") "
   ]
  }
 ],
 "metadata": {
  "kernelspec": {
   "display_name": "Python 3",
   "language": "python",
   "name": "python3"
  },
  "language_info": {
   "codemirror_mode": {
    "name": "ipython",
    "version": 3
   },
   "file_extension": ".py",
   "mimetype": "text/x-python",
   "name": "python",
   "nbconvert_exporter": "python",
   "pygments_lexer": "ipython3",
   "version": "3.13.3"
  }
 },
 "nbformat": 4,
 "nbformat_minor": 5
}

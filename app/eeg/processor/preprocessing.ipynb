{
 "cells": [
  {
   "cell_type": "code",
   "execution_count": 4,
   "id": "initial_id",
   "metadata": {
    "collapsed": true,
    "is_executing": true
   },
   "outputs": [],
   "source": [
    "import mne\n",
    "# %matplotlib inline\n",
    "%matplotlib tk\n",
    "import matplotlib\n",
    "import matplotlib.pyplot as plt\n",
    "import numpy as np\n",
    "data_path = 'app/eeg/static/eeg_data/raw/aud/1.set'"
   ]
  },
  {
   "cell_type": "code",
   "execution_count": 5,
   "id": "425d62c6336f087a",
   "metadata": {
    "collapsed": false,
    "is_executing": true
   },
   "outputs": [
    {
     "ename": "FileNotFoundError",
     "evalue": "input_fname does not exist: \"s:\\MYFILES\\programming\\Python\\Research work\\research-work\\app\\eeg\\processor\\app\\eeg\\static\\eeg_data\\raw\\aud\\1.set\"",
     "output_type": "error",
     "traceback": [
      "\u001b[31m---------------------------------------------------------------------------\u001b[39m",
      "\u001b[31mFileNotFoundError\u001b[39m                         Traceback (most recent call last)",
      "\u001b[36mCell\u001b[39m\u001b[36m \u001b[39m\u001b[32mIn[5]\u001b[39m\u001b[32m, line 2\u001b[39m\n\u001b[32m      1\u001b[39m mne.set_log_level(\u001b[33m'\u001b[39m\u001b[33mERROR\u001b[39m\u001b[33m'\u001b[39m)\n\u001b[32m----> \u001b[39m\u001b[32m2\u001b[39m raw = \u001b[43mmne\u001b[49m\u001b[43m.\u001b[49m\u001b[43mio\u001b[49m\u001b[43m.\u001b[49m\u001b[43mread_raw_eeglab\u001b[49m\u001b[43m(\u001b[49m\u001b[43mdata_path\u001b[49m\u001b[43m,\u001b[49m\u001b[43m \u001b[49m\u001b[43mpreload\u001b[49m\u001b[43m=\u001b[49m\u001b[38;5;28;43;01mTrue\u001b[39;49;00m\u001b[43m)\u001b[49m\n\u001b[32m      3\u001b[39m raw.crop(tmax=\u001b[32m30\u001b[39m).load_data()\n\u001b[32m      4\u001b[39m fig = raw.plot_sensors(show_names=\u001b[38;5;28;01mTrue\u001b[39;00m, show=\u001b[38;5;28;01mFalse\u001b[39;00m)\n",
      "\u001b[36mFile \u001b[39m\u001b[32mc:\\Users\\Sergc.DESKTOP-TU3FSM6\\AppData\\Local\\Programs\\Python\\Python313\\Lib\\site-packages\\mne\\io\\eeglab\\eeglab.py:328\u001b[39m, in \u001b[36mread_raw_eeglab\u001b[39m\u001b[34m(input_fname, eog, preload, uint16_codec, montage_units, verbose)\u001b[39m\n\u001b[32m    284\u001b[39m \u001b[38;5;129m@fill_doc\u001b[39m\n\u001b[32m    285\u001b[39m \u001b[38;5;28;01mdef\u001b[39;00m\u001b[38;5;250m \u001b[39m\u001b[34mread_raw_eeglab\u001b[39m(\n\u001b[32m    286\u001b[39m     input_fname,\n\u001b[32m   (...)\u001b[39m\u001b[32m    291\u001b[39m     verbose=\u001b[38;5;28;01mNone\u001b[39;00m,\n\u001b[32m    292\u001b[39m ) -> \u001b[33m\"\u001b[39m\u001b[33mRawEEGLAB\u001b[39m\u001b[33m\"\u001b[39m:\n\u001b[32m    293\u001b[39m \u001b[38;5;250m    \u001b[39m\u001b[33mr\u001b[39m\u001b[33;03m\"\"\"Read an EEGLAB .set file.\u001b[39;00m\n\u001b[32m    294\u001b[39m \n\u001b[32m    295\u001b[39m \u001b[33;03m    Parameters\u001b[39;00m\n\u001b[32m   (...)\u001b[39m\u001b[32m    326\u001b[39m \u001b[33;03m    .. versionadded:: 0.11.0\u001b[39;00m\n\u001b[32m    327\u001b[39m \u001b[33;03m    \"\"\"\u001b[39;00m\n\u001b[32m--> \u001b[39m\u001b[32m328\u001b[39m     \u001b[38;5;28;01mreturn\u001b[39;00m \u001b[43mRawEEGLAB\u001b[49m\u001b[43m(\u001b[49m\n\u001b[32m    329\u001b[39m \u001b[43m        \u001b[49m\u001b[43minput_fname\u001b[49m\u001b[43m=\u001b[49m\u001b[43minput_fname\u001b[49m\u001b[43m,\u001b[49m\n\u001b[32m    330\u001b[39m \u001b[43m        \u001b[49m\u001b[43mpreload\u001b[49m\u001b[43m=\u001b[49m\u001b[43mpreload\u001b[49m\u001b[43m,\u001b[49m\n\u001b[32m    331\u001b[39m \u001b[43m        \u001b[49m\u001b[43meog\u001b[49m\u001b[43m=\u001b[49m\u001b[43meog\u001b[49m\u001b[43m,\u001b[49m\n\u001b[32m    332\u001b[39m \u001b[43m        \u001b[49m\u001b[43muint16_codec\u001b[49m\u001b[43m=\u001b[49m\u001b[43muint16_codec\u001b[49m\u001b[43m,\u001b[49m\n\u001b[32m    333\u001b[39m \u001b[43m        \u001b[49m\u001b[43mmontage_units\u001b[49m\u001b[43m=\u001b[49m\u001b[43mmontage_units\u001b[49m\u001b[43m,\u001b[49m\n\u001b[32m    334\u001b[39m \u001b[43m        \u001b[49m\u001b[43mverbose\u001b[49m\u001b[43m=\u001b[49m\u001b[43mverbose\u001b[49m\u001b[43m,\u001b[49m\n\u001b[32m    335\u001b[39m \u001b[43m    \u001b[49m\u001b[43m)\u001b[49m\n",
      "\u001b[36mFile \u001b[39m\u001b[32m<decorator-gen-267>:12\u001b[39m, in \u001b[36m__init__\u001b[39m\u001b[34m(self, input_fname, eog, preload, uint16_codec, montage_units, verbose)\u001b[39m\n",
      "\u001b[36mFile \u001b[39m\u001b[32mc:\\Users\\Sergc.DESKTOP-TU3FSM6\\AppData\\Local\\Programs\\Python\\Python313\\Lib\\site-packages\\mne\\io\\eeglab\\eeglab.py:449\u001b[39m, in \u001b[36mRawEEGLAB.__init__\u001b[39m\u001b[34m(self, input_fname, eog, preload, uint16_codec, montage_units, verbose)\u001b[39m\n\u001b[32m    438\u001b[39m \u001b[38;5;129m@verbose\u001b[39m\n\u001b[32m    439\u001b[39m \u001b[38;5;28;01mdef\u001b[39;00m\u001b[38;5;250m \u001b[39m\u001b[34m__init__\u001b[39m(\n\u001b[32m    440\u001b[39m     \u001b[38;5;28mself\u001b[39m,\n\u001b[32m   (...)\u001b[39m\u001b[32m    447\u001b[39m     verbose=\u001b[38;5;28;01mNone\u001b[39;00m,\n\u001b[32m    448\u001b[39m ):\n\u001b[32m--> \u001b[39m\u001b[32m449\u001b[39m     input_fname = \u001b[38;5;28mstr\u001b[39m(\u001b[43m_check_fname\u001b[49m\u001b[43m(\u001b[49m\u001b[43minput_fname\u001b[49m\u001b[43m,\u001b[49m\u001b[43m \u001b[49m\u001b[33;43m\"\u001b[39;49m\u001b[33;43mread\u001b[39;49m\u001b[33;43m\"\u001b[39;49m\u001b[43m,\u001b[49m\u001b[43m \u001b[49m\u001b[38;5;28;43;01mTrue\u001b[39;49;00m\u001b[43m,\u001b[49m\u001b[43m \u001b[49m\u001b[33;43m\"\u001b[39;49m\u001b[33;43minput_fname\u001b[39;49m\u001b[33;43m\"\u001b[39;49m\u001b[43m)\u001b[49m)\n\u001b[32m    450\u001b[39m     eeg = _check_load_mat(input_fname, uint16_codec)\n\u001b[32m    451\u001b[39m     \u001b[38;5;28;01mif\u001b[39;00m eeg.trials != \u001b[32m1\u001b[39m:\n",
      "\u001b[36mFile \u001b[39m\u001b[32m<decorator-gen-0>:12\u001b[39m, in \u001b[36m_check_fname\u001b[39m\u001b[34m(fname, overwrite, must_exist, name, need_dir, check_bids_split, verbose)\u001b[39m\n",
      "\u001b[36mFile \u001b[39m\u001b[32mc:\\Users\\Sergc.DESKTOP-TU3FSM6\\AppData\\Local\\Programs\\Python\\Python313\\Lib\\site-packages\\mne\\utils\\check.py:302\u001b[39m, in \u001b[36m_check_fname\u001b[39m\u001b[34m(fname, overwrite, must_exist, name, need_dir, check_bids_split, verbose)\u001b[39m\n\u001b[32m    300\u001b[39m             \u001b[38;5;28;01mraise\u001b[39;00m \u001b[38;5;167;01mPermissionError\u001b[39;00m(\u001b[33mf\u001b[39m\u001b[33m\"\u001b[39m\u001b[38;5;132;01m{\u001b[39;00mname\u001b[38;5;132;01m}\u001b[39;00m\u001b[33m does not have read permissions: \u001b[39m\u001b[38;5;132;01m{\u001b[39;00mfname\u001b[38;5;132;01m}\u001b[39;00m\u001b[33m\"\u001b[39m)\n\u001b[32m    301\u001b[39m \u001b[38;5;28;01melif\u001b[39;00m must_exist:\n\u001b[32m--> \u001b[39m\u001b[32m302\u001b[39m     \u001b[38;5;28;01mraise\u001b[39;00m \u001b[38;5;167;01mFileNotFoundError\u001b[39;00m(\u001b[33mf\u001b[39m\u001b[33m'\u001b[39m\u001b[38;5;132;01m{\u001b[39;00mname\u001b[38;5;132;01m}\u001b[39;00m\u001b[33m does not exist: \u001b[39m\u001b[33m\"\u001b[39m\u001b[38;5;132;01m{\u001b[39;00mfname\u001b[38;5;132;01m}\u001b[39;00m\u001b[33m\"\u001b[39m\u001b[33m'\u001b[39m)\n\u001b[32m    304\u001b[39m \u001b[38;5;28;01mreturn\u001b[39;00m fname\n",
      "\u001b[31mFileNotFoundError\u001b[39m: input_fname does not exist: \"s:\\MYFILES\\programming\\Python\\Research work\\research-work\\app\\eeg\\processor\\app\\eeg\\static\\eeg_data\\raw\\aud\\1.set\""
     ]
    }
   ],
   "source": [
    "mne.set_log_level('ERROR')\n",
    "raw = mne.io.read_raw_eeglab(data_path, preload=True)\n",
    "raw.crop(tmax=30).load_data()\n",
    "fig = raw.plot_sensors(show_names=True, show=False)\n"
   ]
  },
  {
   "cell_type": "markdown",
   "id": "7998105f62e0977",
   "metadata": {
    "collapsed": false
   },
   "source": [
    "## Частотная фильтрация\n",
    "применяется фильтр с конечной импульсивной характеристикой FIR.\n",
    "оставляем частоты в диапазоне от 16 до 22 Гц"
   ]
  },
  {
   "cell_type": "code",
   "execution_count": null,
   "id": "12e2ad5b60fcf031",
   "metadata": {
    "collapsed": false
   },
   "outputs": [],
   "source": [
    "# Убираем низкие частоты + ставим ограничение до 45 Гц\n",
    "raw_filtered_low_freq_drifts = raw.copy().filter(l_freq=16.0,h_freq=22.0)"
   ]
  },
  {
   "cell_type": "code",
   "execution_count": null,
   "id": "2c1180bd317901cc",
   "metadata": {
    "collapsed": false
   },
   "outputs": [],
   "source": [
    "# Построение графика исходных данных\n",
    "fig_raw = raw.plot(duration=30,remove_dc=False, title='Raw EEG Data')\n",
    "fig_raw.suptitle(\"Raw data\")\n",
    "\n",
    "# Построение графика после применения частотной фильтрации\n",
    "fig = raw_filtered_low_freq_drifts.plot(duration=30,remove_dc=False)\n",
    "fig.suptitle(\"Filtered low frequency\") "
   ]
  },
  {
   "cell_type": "code",
   "execution_count": null,
   "id": "4f74d9540c509ad0",
   "metadata": {
    "collapsed": false
   },
   "outputs": [],
   "source": [
    "fig_raw = raw.plot_psd(fmin=1, fmax=40, show=True)\n",
    "fig_raw.suptitle(\"Raw data\")\n",
    "\n",
    "fig = raw_filtered_low_freq_drifts.plot_psd(fmin=16, fmax=22, show=True)\n",
    "fig.suptitle(\"Filtered low frequency\") "
   ]
  },
  {
   "cell_type": "markdown",
   "id": "53ba614f95e09fd0",
   "metadata": {
    "collapsed": false
   },
   "source": [
    "## Устранение глазодвигательных артефактов\n",
    "Вручную выставляем какой-то канал как EOG, чтобы потом применить автоматический поиск артефактов с помощью ICA"
   ]
  },
  {
   "cell_type": "code",
   "execution_count": null,
   "id": "70e81edd64684d89",
   "metadata": {
    "collapsed": false
   },
   "outputs": [],
   "source": [
    "from mne.preprocessing import ICA\n",
    "\n",
    "raw_filtered_low_freq_drifts.set_channel_types({'E127': 'eog'})\n",
    "\n",
    "ica = ICA(n_components=20, random_state=97)\n",
    "ica.fit(raw_filtered_low_freq_drifts)\n",
    "\n",
    "eog_indices, _ = ica.find_bads_eog(raw_filtered_low_freq_drifts, threshold=0.5)\n",
    "ica.exclude = eog_indices\n",
    "\n",
    "raw_clean = ica.apply(raw_filtered_low_freq_drifts)\n",
    "fig = raw_clean.plot()\n",
    "fig.suptitle(\"Filtered ICA\") \n"
   ]
  },
  {
   "cell_type": "code",
   "execution_count": null,
   "id": "9946af36e3852fef",
   "metadata": {
    "collapsed": false
   },
   "outputs": [],
   "source": [
    "fig = raw_clean.plot_psd(fmin=1, fmax=40, show=True)\n",
    "fig.suptitle(\"Filtered ICA\") "
   ]
  }
 ],
 "metadata": {
  "kernelspec": {
   "display_name": "Python 3",
   "language": "python",
   "name": "python3"
  },
  "language_info": {
   "codemirror_mode": {
    "name": "ipython",
    "version": 3
   },
   "file_extension": ".py",
   "mimetype": "text/x-python",
   "name": "python",
   "nbconvert_exporter": "python",
   "pygments_lexer": "ipython3",
   "version": "3.13.3"
  }
 },
 "nbformat": 4,
 "nbformat_minor": 5
}

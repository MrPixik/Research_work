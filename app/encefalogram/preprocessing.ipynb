{
 "cells": [
  {
   "cell_type": "code",
   "execution_count": 3,
   "id": "initial_id",
   "metadata": {
    "collapsed": true,
    "ExecuteTime": {
     "end_time": "2024-12-12T10:47:14.448873700Z",
     "start_time": "2024-12-12T10:47:14.407347100Z"
    }
   },
   "outputs": [],
   "source": [
    "import mne\n",
    "# %matplotlib inline\n",
    "%matplotlib tk\n",
    "import matplotlib\n",
    "import matplotlib.pyplot as plt\n",
    "import numpy as np\n",
    "data_path = r'../../static/eeg_data/raw/panina1.set'"
   ]
  },
  {
   "cell_type": "code",
   "outputs": [
    {
     "name": "stdout",
     "output_type": "stream",
     "text": [
      "Reading S:\\MYFILES\\programming\\Python\\Research work\\Research work\\app\\encefalogram\\..\\..\\static\\eeg_data\\raw\\panina1.fdt\n",
      "Reading 0 ... 46596  =      0.000 ...   465.960 secs...\n"
     ]
    },
    {
     "data": {
      "text/plain": "<RawEEGLAB | panina1.fdt, 19 x 6001 (60.0 s), ~923 kB, data loaded>",
      "text/html": "<script type=\"text/javascript\">\n    const toggleVisibility = (className) => {\n\n  const elements = document.querySelectorAll(`.${className}`)\n\n  elements.forEach(element => {\n    if (element.classList.contains('repr-section-header')) {\n      // Don't collapse the section header row.\n       return\n    }\n    if (element.classList.contains('repr-element-collapsed')) {\n      // Force a reflow to ensure the display change takes effect before removing the class\n      element.classList.remove('repr-element-collapsed')\n      element.offsetHeight // This forces the browser to recalculate layout\n      element.classList.remove('repr-element-faded')\n    } else {\n      // Start transition to hide the element\n      element.classList.add('repr-element-faded')\n      element.addEventListener('transitionend', handler = (e) => {\n        if (e.propertyName === 'opacity' && getComputedStyle(element).opacity === '0.2') {\n          element.classList.add('repr-element-collapsed')\n          element.removeEventListener('transitionend', handler)\n        }\n      });\n    }\n  });\n\n  // Take care of button (adjust caret)\n  const button = document.querySelectorAll(`.repr-section-header.${className} > th.repr-section-toggle-col > button`)[0]\n  button.classList.toggle('collapsed')\n\n  // Take care of the tooltip of the section header row\n  const sectionHeaderRow = document.querySelectorAll(`tr.repr-section-header.${className}`)[0]\n  sectionHeaderRow.classList.toggle('collapsed')\n  sectionHeaderRow.title = sectionHeaderRow.title === 'Hide section' ? 'Show section' : 'Hide section'\n}\n</script>\n\n<style type=\"text/css\">\n    table.repr.table.table-hover.table-striped.table-sm.table-responsive.small {\n  /* Don't make rows wider than they need to be. */\n  display: inline;\n}\n\ntable > tbody > tr.repr-element > td {\n  /* Apply a tighter layout to the table cells. */\n  padding-top: 0.1rem;\n  padding-bottom: 0.1rem;\n  padding-right: 1rem;\n}\n\ntable > tbody > tr > td.repr-section-toggle-col {\n  /* Remove background and border of the first cell in every row\n     (this row is only used for the collapse / uncollapse caret)\n\n     TODO: Need to find a good solution for VS Code that works in both\n           light and dark mode. */\n  border-color: transparent;\n  --bs-table-accent-bg: transparent;\n}\n\ntr.repr-section-header {\n  /* Remove stripes from section header rows */\n  background-color: transparent;\n  border-color: transparent;\n  --bs-table-striped-bg: transparent;\n  cursor: pointer;\n}\n\ntr.repr-section-header > th {\n  text-align: left !important;\n  vertical-align: middle;\n}\n\n.repr-element, tr.repr-element > td {\n  opacity: 1;\n  text-align: left !important;\n}\n\n.repr-element-faded {\n  transition: 0.3s ease;\n  opacity: 0.2;\n}\n\n.repr-element-collapsed {\n  display: none;\n}\n\n/* Collapse / uncollapse button and the caret it contains. */\n.repr-section-toggle-col button {\n  cursor: pointer;\n  width: 1rem;\n  background-color: transparent;\n  border-color: transparent;\n}\n\nspan.collapse-uncollapse-caret {\n  width: 1rem;\n  height: 1rem;\n  display: block;\n  background-repeat: no-repeat;\n  background-position: left;\n  background-size: contain;\n}\n\n/* The collapse / uncollapse carets were copied from the free Font Awesome collection and adjusted. */\n\n/* Default to black carets for light mode */\n.repr-section-toggle-col > button.collapsed > span.collapse-uncollapse-caret {\n  background-image: url('data:image/svg+xml;charset=utf8,<svg xmlns=\"http://www.w3.org/2000/svg\" viewBox=\"0 0 256 512\"><!--!Font Awesome Free 6.5.2 by @fontawesome - https://fontawesome.com License - https://fontawesome.com/license/free Copyright 2024 Fonticons, Inc.--><path fill=\"black\" d=\"M246.6 278.6c12.5-12.5 12.5-32.8 0-45.3l-128-128c-9.2-9.2-22.9-11.9-34.9-6.9s-19.8 16.6-19.8 29.6l0 256c0 12.9 7.8 24.6 19.8 29.6s25.7 2.2 34.9-6.9l128-128z\"/></svg>');\n}\n\n.repr-section-toggle-col\n  > button:not(.collapsed)\n  > span.collapse-uncollapse-caret {\n  background-image: url('data:image/svg+xml;charset=utf8,<svg xmlns=\"http://www.w3.org/2000/svg\" viewBox=\"0 0 320 512\"><!--!Font Awesome Free 6.5.2 by @fontawesome - https://fontawesome.com License - https://fontawesome.com/license/free Copyright 2024 Fonticons, Inc.--><path fill=\"black\" d=\"M137.4 374.6c12.5 12.5 32.8 12.5 45.3 0l128-128c9.2-9.2 11.9-22.9 6.9-34.9s-16.6-19.8-29.6-19.8L32 192c-12.9 0-24.6 7.8-29.6 19.8s-2.2 25.7 6.9 34.9l128 128z\"/></svg>');\n}\n\n/* Use white carets for dark mode */\n@media (prefers-color-scheme: dark) {\n  .repr-section-toggle-col > button.collapsed > span.collapse-uncollapse-caret {\n    background-image: url('data:image/svg+xml;charset=utf8,<svg xmlns=\"http://www.w3.org/2000/svg\" viewBox=\"0 0 256 512\"><!--!Font Awesome Free 6.5.2 by @fontawesome - https://fontawesome.com License - https://fontawesome.com/license/free Copyright 2024 Fonticons, Inc.--><path fill=\"white\" d=\"M246.6 278.6c12.5-12.5 12.5-32.8 0-45.3l-128-128c-9.2-9.2-22.9-11.9-34.9-6.9s-19.8 16.6-19.8 29.6l0 256c0 12.9 7.8 24.6 19.8 29.6s25.7 2.2 34.9-6.9l128-128z\"/></svg>');\n  }\n\n  .repr-section-toggle-col\n    > button:not(.collapsed)\n    > span.collapse-uncollapse-caret {\n    background-image: url('data:image/svg+xml;charset=utf8,<svg xmlns=\"http://www.w3.org/2000/svg\" viewBox=\"0 0 320 512\"><!--!Font Awesome Free 6.5.2 by @fontawesome - https://fontawesome.com License - https://fontawesome.com/license/free Copyright 2024 Fonticons, Inc.--><path fill=\"white\" d=\"M137.4 374.6c12.5 12.5 32.8 12.5 45.3 0l128-128c9.2-9.2 11.9-22.9 6.9-34.9s-16.6-19.8-29.6-19.8L32 192c-12.9 0-24.6 7.8-29.6 19.8s-2.2 25.7 6.9 34.9l128 128z\"/></svg>');\n  }\n}\n\n.channel-names-btn {\n  padding: 0;\n  border: none;\n  background: none;\n  text-decoration: underline;\n  text-decoration-style: dashed;\n  cursor: pointer;\n  color: #0d6efd;\n}\n\n.channel-names-btn:hover {\n  color: #0a58ca;\n}\n</style>\n\n\n\n<table class=\"repr table table-hover table-striped table-sm table-responsive small\">\n    \n\n\n\n\n\n\n\n<tr class=\"repr-section-header general-a1f3803a-68fd-4402-8c67-f3863cb87e70\"  title=\"Hide section\" \n    onclick=\"toggleVisibility('general-a1f3803a-68fd-4402-8c67-f3863cb87e70')\">\n    <th class=\"repr-section-toggle-col\">\n        <button>\n            \n            <span class=\"collapse-uncollapse-caret\"></span>\n        </button>\n    </th>\n    <th colspan=\"2\">\n        <strong>General</strong>\n    </th>\n</tr>\n\n<tr class=\"repr-element general-a1f3803a-68fd-4402-8c67-f3863cb87e70 \">\n    <td class=\"repr-section-toggle-col\"></td>\n    <td>Filename(s)</td>\n    <td>\n        \n        panina1.fdt\n        \n        \n    </td>\n</tr>\n\n<tr class=\"repr-element general-a1f3803a-68fd-4402-8c67-f3863cb87e70 \">\n    <td class=\"repr-section-toggle-col\"></td>\n    <td>MNE object type</td>\n    <td>RawEEGLAB</td>\n</tr>\n<tr class=\"repr-element general-a1f3803a-68fd-4402-8c67-f3863cb87e70 \">\n    <td class=\"repr-section-toggle-col\"></td>\n    <td>Measurement date</td>\n    \n    <td>Unknown</td>\n    \n</tr>\n<tr class=\"repr-element general-a1f3803a-68fd-4402-8c67-f3863cb87e70 \">\n    <td class=\"repr-section-toggle-col\"></td>\n    <td>Participant</td>\n    \n    <td>Unknown</td>\n    \n</tr>\n<tr class=\"repr-element general-a1f3803a-68fd-4402-8c67-f3863cb87e70 \">\n    <td class=\"repr-section-toggle-col\"></td>\n    <td>Experimenter</td>\n    \n    <td>Unknown</td>\n    \n</tr>\n    \n\n\n\n\n\n\n\n<tr class=\"repr-section-header acquisition-018df6ac-9543-4ba2-8a19-f613343e191b\" \n    title=\"Hide section\"  onclick=\"toggleVisibility('acquisition-018df6ac-9543-4ba2-8a19-f613343e191b')\">\n    <th class=\"repr-section-toggle-col\">\n        <button>\n            \n            <span class=\"collapse-uncollapse-caret\"></span>\n        </button>\n    </th>\n    <th colspan=\"2\">\n        <strong>Acquisition</strong>\n    </th>\n</tr>\n\n<tr class=\"repr-element acquisition-018df6ac-9543-4ba2-8a19-f613343e191b \">\n    <td class=\"repr-section-toggle-col\"></td>\n    <td>Duration</td>\n    <td>00:01:00 (HH:MM:SS)</td>\n</tr>\n\n\n\n\n\n\n\n\n<tr class=\"repr-element acquisition-018df6ac-9543-4ba2-8a19-f613343e191b \">\n    <td class=\"repr-section-toggle-col\"></td>\n    <td>Sampling frequency</td>\n    <td>100.00 Hz</td>\n</tr>\n\n\n<tr class=\"repr-element acquisition-018df6ac-9543-4ba2-8a19-f613343e191b \">\n    <td class=\"repr-section-toggle-col\"></td>\n    <td>Time points</td>\n    <td>6,001</td>\n</tr>\n\n\n    \n\n\n\n\n\n\n\n<tr class=\"repr-section-header channels-1f389001-8b58-4672-b4ac-4014f98a2a62\"  title=\"Hide section\" \n    onclick=\"toggleVisibility('channels-1f389001-8b58-4672-b4ac-4014f98a2a62')\">\n    <th class=\"repr-section-toggle-col\">\n        <button>\n            \n            <span class=\"collapse-uncollapse-caret\"></span>\n        </button>\n    </th>\n    <th colspan=\"2\">\n        <strong>Channels</strong>\n    </th>\n</tr>\n\n\n<tr class=\"repr-element channels-1f389001-8b58-4672-b4ac-4014f98a2a62 \">\n    <td class=\"repr-section-toggle-col\"></td>\n    <td>EEG</td>\n    <td>\n        <button class=\"channel-names-btn\" onclick=\"alert('Good EEG:\\n\\nFp1, Fp2, F7, F3, Fz, F4, F8, T7, C3, Cz, C4, T8, P7, P3, Pz, P4, P8, O1, O2')\" title=\"(Click to open in popup)&#13;&#13;Fp1, Fp2, F7, F3, Fz, F4, F8, T7, C3, Cz, C4, T8, P7, P3, Pz, P4, P8, O1, O2\">\n            19\n        </button>\n\n        \n    </td>\n</tr>\n\n\n<tr class=\"repr-element channels-1f389001-8b58-4672-b4ac-4014f98a2a62 \">\n    <td class=\"repr-section-toggle-col\"></td>\n    <td>Head & sensor digitization</td>\n    \n    <td>22 points</td>\n    \n</tr>\n    \n\n\n\n\n\n\n\n<tr class=\"repr-section-header filters-14041b4b-fc4f-4a40-8763-337e03e16d0f\"  title=\"Hide section\" \n    onclick=\"toggleVisibility('filters-14041b4b-fc4f-4a40-8763-337e03e16d0f')\">\n    <th class=\"repr-section-toggle-col\">\n        <button>\n            \n            <span class=\"collapse-uncollapse-caret\"></span>\n        </button>\n    </th>\n    <th colspan=\"2\">\n        <strong>Filters</strong>\n    </th>\n</tr>\n\n<tr class=\"repr-element filters-14041b4b-fc4f-4a40-8763-337e03e16d0f \">\n    <td class=\"repr-section-toggle-col\"></td>\n    <td>Highpass</td>\n    <td>0.00 Hz</td>\n</tr>\n\n\n<tr class=\"repr-element filters-14041b4b-fc4f-4a40-8763-337e03e16d0f \">\n    <td class=\"repr-section-toggle-col\"></td>\n    <td>Lowpass</td>\n    <td>50.00 Hz</td>\n</tr>\n\n\n</table>"
     },
     "execution_count": 4,
     "metadata": {},
     "output_type": "execute_result"
    }
   ],
   "source": [
    "#Importing data and cropping for \n",
    "raw = mne.io.read_raw_eeglab(data_path, preload=True)\n",
    "raw.crop(tmax=60).load_data()"
   ],
   "metadata": {
    "collapsed": false,
    "ExecuteTime": {
     "end_time": "2024-12-12T10:47:14.846243700Z",
     "start_time": "2024-12-12T10:47:14.452551300Z"
    }
   },
   "id": "425d62c6336f087a",
   "execution_count": 4
  },
  {
   "cell_type": "markdown",
   "source": [
    "## Низкочастотная фильтрация\n",
    "применяется фильтр с конечной импульсивной характеристикой FIR\n",
    "после применения фильтра, графики становятся менее \"волнистыми\"\n",
    "посмотри как лучше обработать на сайте\n",
    "https://mne.tools/stable/auto_tutorials/preprocessing/30_filtering_resampling.html"
   ],
   "metadata": {
    "collapsed": false
   },
   "id": "7998105f62e0977"
  },
  {
   "cell_type": "code",
   "outputs": [
    {
     "name": "stdout",
     "output_type": "stream",
     "text": [
      "Filtering raw data in 1 contiguous segment\n",
      "Setting up high-pass filter at 1 Hz\n",
      "\n",
      "FIR filter parameters\n",
      "---------------------\n",
      "Designing a one-pass, zero-phase, non-causal highpass filter:\n",
      "- Windowed time-domain design (firwin) method\n",
      "- Hamming window with 0.0194 passband ripple and 53 dB stopband attenuation\n",
      "- Lower passband edge: 1.00\n",
      "- Lower transition bandwidth: 1.00 Hz (-6 dB cutoff frequency: 0.50 Hz)\n",
      "- Filter length: 331 samples (3.310 s)\n"
     ]
    },
    {
     "name": "stderr",
     "output_type": "stream",
     "text": [
      "[Parallel(n_jobs=1)]: Done  17 tasks      | elapsed:    0.0s\n"
     ]
    }
   ],
   "source": [
    "# Убираем низкие частоты\n",
    "raw_filtered_low_freq_drifts = raw.copy().filter(l_freq=1.,h_freq=None)"
   ],
   "metadata": {
    "collapsed": false,
    "ExecuteTime": {
     "end_time": "2024-12-12T10:47:30.718618600Z",
     "start_time": "2024-12-12T10:47:30.606907300Z"
    }
   },
   "id": "12e2ad5b60fcf031",
   "execution_count": 6
  },
  {
   "cell_type": "markdown",
   "source": [],
   "metadata": {
    "collapsed": false
   },
   "id": "a700d1212da0def2"
  },
  {
   "cell_type": "code",
   "outputs": [
    {
     "data": {
      "text/plain": "Text(0.5, 0.98, 'Filtered low frequency')"
     },
     "execution_count": 8,
     "metadata": {},
     "output_type": "execute_result"
    }
   ],
   "source": [
    "# Построение графика исходных \"сырых\" данных\n",
    "fig_raw = raw.plot(duration=30,remove_dc=False, title='Raw EEG Data')\n",
    "fig_raw.suptitle(\"Raw data\")\n",
    "\n",
    "# Построение графика после применения низкочастотного фильтра\n",
    "fig = raw_filtered_low_freq_drifts.plot(duration=30,remove_dc=False)\n",
    "fig.suptitle(\"Filtered low frequency\") "
   ],
   "metadata": {
    "collapsed": false,
    "ExecuteTime": {
     "end_time": "2024-12-12T10:47:43.663285500Z",
     "start_time": "2024-12-12T10:47:42.935873700Z"
    }
   },
   "id": "2c1180bd317901cc",
   "execution_count": 8
  },
  {
   "cell_type": "code",
   "outputs": [
    {
     "name": "stdout",
     "output_type": "stream",
     "text": [
      "Effective window size : 20.480 (s)\n",
      "Plotting power spectral density (dB=True).\n",
      "Effective window size : 20.480 (s)\n",
      "Plotting power spectral density (dB=True).\n"
     ]
    },
    {
     "data": {
      "text/plain": "Text(0.5, 0.98, 'Спектр мощности сигнала после применения фильтра (PSD)')"
     },
     "execution_count": 9,
     "metadata": {},
     "output_type": "execute_result"
    }
   ],
   "source": [
    "# Дополнительно можно построить PSD Спектральную мощность плотности\n",
    "\n",
    "# PSD до фильтрации\n",
    "spectrum = raw.compute_psd(fmax=5)  # Смотрим только низкие частоты\n",
    "fig = spectrum.plot(average=True, picks=\"eeg\")\n",
    "fig.suptitle(\"Спектр мощности сигнала (PSD)\")\n",
    "\n",
    "# PSD после фильтрации\n",
    "spectrum_filtered = raw_filtered_low_freq_drifts.compute_psd(fmax=5)\n",
    "fig = spectrum_filtered.plot(average=True, picks=\"eeg\")\n",
    "fig.suptitle(\"Спектр мощности сигнала после применения фильтра (PSD)\") "
   ],
   "metadata": {
    "collapsed": false,
    "ExecuteTime": {
     "end_time": "2024-12-12T10:47:49.125445300Z",
     "start_time": "2024-12-12T10:47:48.851414800Z"
    }
   },
   "id": "72320ef5c58583bc",
   "execution_count": 9
  },
  {
   "cell_type": "markdown",
   "source": [
    "## Исследование наличия глазодвигательных артефактов"
   ],
   "metadata": {
    "collapsed": false
   },
   "id": "53ba614f95e09fd0"
  },
  {
   "cell_type": "code",
   "outputs": [],
   "source": [
    "#Проведем анализ спектра мощности на фронтальных датчиках\n",
    "\n",
    "spectrum = raw.compute_psd()\n",
    "front_sensors = [\"F7\", \"F8\"]\n",
    "spectrum.plot(picks=front_sensors, exclude=\"bads\", amplitude=False)"
   ],
   "metadata": {
    "collapsed": false,
    "ExecuteTime": {
     "start_time": "2024-12-12T10:47:16.175126400Z"
    }
   },
   "id": "70e81edd64684d89",
   "execution_count": null
  },
  {
   "cell_type": "code",
   "outputs": [
    {
     "name": "stdout",
     "output_type": "stream",
     "text": [
      "Fitting ICA to data using 19 channels (please be patient, this may take a while)\n",
      "Selecting by non-zero PCA components: 18 components\n",
      "Fitting ICA took 1.1s.\n",
      "Fraction of eeg variance explained by all components: 1.0\n"
     ]
    }
   ],
   "source": [
    "# Как видно на графике, у нас имеется аномальный скачок сигнала, примерно на 25 ГЦ, попробуем применить метод Анализа Независимых Компонент ICA\n",
    "\n",
    "ica = mne.preprocessing.ICA(max_iter=\"auto\", random_state=97)\n",
    "ica.fit(raw_filtered_low_freq_drifts)\n",
    "explained_var_ratio = ica.get_explained_variance_ratio(raw_filtered_low_freq_drifts)\n",
    "for channel_type, ratio in explained_var_ratio.items():\n",
    "    print(f\"Fraction of {channel_type} variance explained by all components: {ratio}\")"
   ],
   "metadata": {
    "collapsed": false,
    "ExecuteTime": {
     "end_time": "2024-12-12T10:47:56.314186900Z",
     "start_time": "2024-12-12T10:47:54.998480Z"
    }
   },
   "id": "a0bf19b8c17ca167",
   "execution_count": 10
  },
  {
   "cell_type": "code",
   "outputs": [
    {
     "name": "stdout",
     "output_type": "stream",
     "text": [
      "Fraction of variance in EEG signal explained by first component: 49%\n"
     ]
    }
   ],
   "source": [
    "explained_var_ratio = ica.get_explained_variance_ratio(\n",
    "    raw_filtered_low_freq_drifts, components=[0], ch_type=\"eeg\"\n",
    ")\n",
    "# This time, print as percentage.\n",
    "ratio_percent = round(100 * explained_var_ratio[\"eeg\"])\n",
    "print(\n",
    "    f\"Fraction of variance in EEG signal explained by first component: \"\n",
    "    f\"{ratio_percent}%\"\n",
    ")"
   ],
   "metadata": {
    "collapsed": false,
    "ExecuteTime": {
     "end_time": "2024-12-12T10:50:03.221879100Z",
     "start_time": "2024-12-12T10:50:03.143698Z"
    }
   },
   "id": "a3820d897bb2c0c0",
   "execution_count": 11
  },
  {
   "cell_type": "code",
   "outputs": [
    {
     "name": "stdout",
     "output_type": "stream",
     "text": [
      "Effective window size : 10.240 (s)\n",
      "Effective window size : 10.240 (s)\n",
      "Effective window size : 10.240 (s)\n",
      "Effective window size : 10.240 (s)\n",
      "Effective window size : 10.240 (s)\n",
      "Effective window size : 10.240 (s)\n",
      "Effective window size : 10.240 (s)\n",
      "Effective window size : 10.240 (s)\n",
      "Effective window size : 10.240 (s)\n",
      "Effective window size : 10.240 (s)\n",
      "Effective window size : 10.240 (s)\n",
      "Effective window size : 10.240 (s)\n",
      "Effective window size : 10.240 (s)\n",
      "Effective window size : 10.240 (s)\n",
      "Effective window size : 10.240 (s)\n",
      "Effective window size : 10.240 (s)\n",
      "Effective window size : 10.240 (s)\n",
      "Effective window size : 10.240 (s)\n"
     ]
    }
   ],
   "source": [
    "# Вывод независимых компонент. Из графика видно, что нет такой компоненты, которая бы отвечала за выявленный ранее аномальный скачок.\n",
    "ica.plot_components()\n",
    "# ica.plot_sources(raw_filtered_low_freq_drifts)\n",
    "# Визуализация временных рядов ICA-компонент\n",
    "ica_sources = ica.get_sources(raw_filtered_low_freq_drifts)\n",
    "\n",
    "sources_data = ica_sources.get_data()\n",
    "\n",
    "# Рассчитаем PSD для каждой компоненты\n",
    "for component_idx in range(sources_data.shape[0]):\n",
    "    fmin, fmax = 0.5, 50.0  # Пределы частот\n",
    "    psds, freqs = mne.time_frequency.psd_array_welch(\n",
    "        sources_data[component_idx, :], sfreq=ica_sources.info['sfreq'], fmin=fmin, fmax=fmax, n_fft=1024\n",
    "    )\n",
    "\n",
    "    # Построим график PSD\n",
    "    plt.figure()\n",
    "    plt.semilogy(freqs, psds, label=f'Component {component_idx}')\n",
    "    plt.xlabel('Frequency (Hz)')\n",
    "    plt.ylabel('PSD (Power/Frequency)')\n",
    "    plt.title(f'PSD for ICA Component {component_idx}')\n",
    "    plt.legend()\n",
    "    plt.show()"
   ],
   "metadata": {
    "collapsed": false,
    "ExecuteTime": {
     "end_time": "2024-12-12T10:50:10.893799800Z",
     "start_time": "2024-12-12T10:50:07.295097600Z"
    }
   },
   "id": "fd8b99b1aa29108a",
   "execution_count": 12
  },
  {
   "cell_type": "markdown",
   "source": [
    "## Применение полосно-заграждающего фильтра\n",
    "Попробуем применить фильтр Нотча, чтобы попробовать вырезать частоту, на которой заметен скачок"
   ],
   "metadata": {
    "collapsed": false
   },
   "id": "1b1ebcbe5045fc5e"
  },
  {
   "cell_type": "code",
   "outputs": [
    {
     "name": "stdout",
     "output_type": "stream",
     "text": [
      "Effective window size : 20.480 (s)\n",
      "Plotting power spectral density (dB=True).\n"
     ]
    }
   ],
   "source": [
    "# PSD после фильтрации\n",
    "spectrum_filtered = raw_filtered_low_freq_drifts.compute_psd(fmin=24, fmax=26)\n",
    "fig = spectrum_filtered.plot(average=True, picks=\"eeg\")\n",
    "fig.suptitle(\"Спектр мощности сигнала после применения фильтра (PSD)\") \n",
    "\n",
    "copy_raw = raw_filtered_low_freq_drifts.copy()"
   ],
   "metadata": {
    "collapsed": false,
    "ExecuteTime": {
     "end_time": "2024-12-12T11:07:10.037618800Z",
     "start_time": "2024-12-12T11:07:09.762574Z"
    }
   },
   "id": "9946af36e3852fef",
   "execution_count": 16
  },
  {
   "cell_type": "code",
   "outputs": [
    {
     "name": "stdout",
     "output_type": "stream",
     "text": [
      "Filtering raw data in 1 contiguous segment\n",
      "Setting up band-stop filter from 25 - 25 Hz\n",
      "\n",
      "FIR filter parameters\n",
      "---------------------\n",
      "Designing a one-pass, zero-phase, non-causal bandstop filter:\n",
      "- Windowed time-domain design (firwin) method\n",
      "- Hamming window with 0.0194 passband ripple and 53 dB stopband attenuation\n",
      "- Lower passband edge: 24.98\n",
      "- Lower transition bandwidth: 0.03 Hz (-6 dB cutoff frequency: 24.97 Hz)\n",
      "- Upper passband edge: 25.16 Hz\n",
      "- Upper transition bandwidth: 0.03 Hz (-6 dB cutoff frequency: 25.17 Hz)\n",
      "- Filter length: 13201 samples (132.010 s)\n",
      "Effective window size : 20.480 (s)\n",
      "Plotting power spectral density (dB=True).\n"
     ]
    },
    {
     "name": "stderr",
     "output_type": "stream",
     "text": [
      "C:\\Users\\Sergc.DESKTOP-TU3FSM6\\AppData\\Local\\Temp\\ipykernel_1076\\436047355.py:4: RuntimeWarning: filter_length (13201) is longer than the signal (6001), distortion is likely. Reduce filter length or filter a longer signal.\n",
      "  copy_raw.notch_filter(freqs=freqs, picks='all', method='fir',trans_bandwidth=0.05)\n",
      "[Parallel(n_jobs=1)]: Done  17 tasks      | elapsed:    0.0s\n"
     ]
    },
    {
     "data": {
      "text/plain": "Text(0.5, 0.98, 'Спектр мощности сигнала после применения фильтра (PSD)')"
     },
     "execution_count": 17,
     "metadata": {},
     "output_type": "execute_result"
    }
   ],
   "source": [
    "freqs = [25.07]\n",
    "\n",
    "# Применение фильтра Нотча\n",
    "copy_raw.notch_filter(freqs=freqs, picks='all', method='fir',trans_bandwidth=0.05)\n",
    "spectrum_filtered = copy_raw.compute_psd(fmin=24, fmax=26)\n",
    "fig = spectrum_filtered.plot(average=True, picks=\"eeg\")\n",
    "fig.suptitle(\"Спектр мощности сигнала после применения фильтра (PSD)\") "
   ],
   "metadata": {
    "collapsed": false,
    "ExecuteTime": {
     "end_time": "2024-12-12T11:07:11.603555100Z",
     "start_time": "2024-12-12T11:07:11.360604500Z"
    }
   },
   "id": "1cc162a384a54ab",
   "execution_count": 17
  },
  {
   "cell_type": "code",
   "outputs": [],
   "source": [],
   "metadata": {
    "collapsed": false
   },
   "id": "14ff2023cd9a0e07"
  }
 ],
 "metadata": {
  "kernelspec": {
   "display_name": "Python 3",
   "language": "python",
   "name": "python3"
  },
  "language_info": {
   "codemirror_mode": {
    "name": "ipython",
    "version": 2
   },
   "file_extension": ".py",
   "mimetype": "text/x-python",
   "name": "python",
   "nbconvert_exporter": "python",
   "pygments_lexer": "ipython2",
   "version": "2.7.6"
  }
 },
 "nbformat": 4,
 "nbformat_minor": 5
}

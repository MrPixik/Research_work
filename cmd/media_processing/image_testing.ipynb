{
 "cells": [
  {
   "cell_type": "code",
   "outputs": [],
   "source": [
    "from app.models.Image_contour_detection import *\n",
    "import cv2\n",
    "\n",
    "imagesAdr_arr = [r'static/media/images/1.jpg', r'static/media/images/2.jpg', r'static/media/images/3.webp']\n",
    "\n",
    "cd = Image_contour_detection()"
   ],
   "metadata": {
    "collapsed": false,
    "is_executing": true
   },
   "id": "initial_id",
   "execution_count": null
  },
  {
   "cell_type": "code",
   "outputs": [],
   "source": [
    "for image in imagesAdr_arr:\n",
    "    im = cv2.imread(image)\n",
    "    contours = cd.contour_tracing(im, cd.thresholdOtsu)\n",
    "    cv2.imshow(\"Contour traced image\",contours)\n",
    "    cv2.waitKey()"
   ],
   "metadata": {
    "collapsed": false,
    "is_executing": true
   },
   "id": "65cf7a9af84cd623",
   "execution_count": null
  },
  {
   "cell_type": "code",
   "outputs": [],
   "source": [
    "for image in imagesAdr_arr:\n",
    "    contours = cd.active_contours(image)"
   ],
   "metadata": {
    "collapsed": false,
    "is_executing": true
   },
   "id": "6b19caca402dba93",
   "execution_count": null
  },
  {
   "cell_type": "code",
   "outputs": [],
   "source": [
    "for image in imagesAdr_arr:\n",
    "    cd.graph_based_segmentation(image)"
   ],
   "metadata": {
    "collapsed": false,
    "is_executing": true
   },
   "id": "5f99c106b5bc5e82",
   "execution_count": null
  },
  {
   "cell_type": "code",
   "outputs": [],
   "source": [
    "for image in imagesAdr_arr:\n",
    "    cd.classrerizarion(image)"
   ],
   "metadata": {
    "collapsed": false,
    "is_executing": true
   },
   "id": "b1c4ba1a728e0a87",
   "execution_count": null
  },
  {
   "cell_type": "code",
   "outputs": [],
   "source": [
    "for image in imagesAdr_arr:\n",
    "    denoised,_ = cd.denoise(image)\n",
    "    contours = cd.contour_tracing(denoised, cd.thresholdOtsu)\n",
    "    cv2.imshow(\"Contour traced image\",contours)\n",
    "    cv2.waitKey()"
   ],
   "metadata": {
    "collapsed": false,
    "is_executing": true
   },
   "id": "68615f7fa53020ce",
   "execution_count": null
  },
  {
   "cell_type": "code",
   "outputs": [],
   "source": [
    "for image in imagesAdr_arr:\n",
    "    cd.sobel_edge_detection(image,5,3,50)"
   ],
   "metadata": {
    "collapsed": false,
    "is_executing": true
   },
   "id": "de1476d60848eccd",
   "execution_count": null
  },
  {
   "cell_type": "code",
   "outputs": [],
   "source": [
    "for image in imagesAdr_arr:\n",
    "    cd.edges_marr_hildreth(image,2,0.05)"
   ],
   "metadata": {
    "collapsed": false,
    "is_executing": true
   },
   "id": "42f7a92008591367",
   "execution_count": null
  },
  {
   "cell_type": "code",
   "outputs": [],
   "source": [
    "for image in imagesAdr_arr:\n",
    "    cd.canny_edge(image,3,5,20,120)"
   ],
   "metadata": {
    "collapsed": false,
    "is_executing": true
   },
   "id": "6ccbc39e701841b7",
   "execution_count": null
  },
  {
   "cell_type": "code",
   "outputs": [],
   "source": [
    "imgAddr = r'static/images/sonya.jpg'\n",
    "cd.rcr_sobel_edge_detection(imgAddr,3,3,100,80,160)"
   ],
   "metadata": {
    "collapsed": false,
    "is_executing": true
   },
   "id": "3dab5764db8c51b2",
   "execution_count": null
  }
 ],
 "metadata": {
  "kernelspec": {
   "display_name": "Python 3",
   "language": "python",
   "name": "python3"
  },
  "language_info": {
   "codemirror_mode": {
    "name": "ipython",
    "version": 2
   },
   "file_extension": ".py",
   "mimetype": "text/x-python",
   "name": "python",
   "nbconvert_exporter": "python",
   "pygments_lexer": "ipython2",
   "version": "2.7.6"
  }
 },
 "nbformat": 4,
 "nbformat_minor": 5
}

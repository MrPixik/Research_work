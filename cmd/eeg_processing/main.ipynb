{
 "cells": [
  {
   "cell_type": "code",
   "execution_count": 8,
   "id": "initial_id",
   "metadata": {
    "collapsed": true,
    "ExecuteTime": {
     "end_time": "2024-12-04T14:46:05.803463900Z",
     "start_time": "2024-12-04T14:46:05.789268800Z"
    }
   },
   "outputs": [],
   "source": [
    "import mne\n",
    "%matplotlib tk\n",
    "import matplotlib\n",
    "import matplotlib.pyplot as plt\n",
    "import numpy as np\n",
    "\n",
    "raw_data_path = r'../../static/eeg_data/raw/panina1.set'\n",
    "preprocessed_data_path = r'../../static/eeg_data/preprocessed/preprocessed_data_eeg.fif'"
   ]
  },
  {
   "cell_type": "code",
   "outputs": [
    {
     "name": "stdout",
     "output_type": "stream",
     "text": [
      "Reading S:\\MYFILES\\programming\\Python\\Research work\\Research work\\cmd\\eeg_processing\\..\\..\\static\\eeg_data\\raw\\panina1.fdt\n",
      "Reading 0 ... 46596  =      0.000 ...   465.960 secs...\n",
      "Opening raw data file ../../static/eeg_data/preprocessed/preprocessed_data_eeg.fif...\n",
      "    Range : 0 ... 46596 =      0.000 ...   465.960 secs\n",
      "Ready.\n",
      "Reading 0 ... 46596  =      0.000 ...   465.960 secs...\n"
     ]
    },
    {
     "data": {
      "text/plain": "<Raw | preprocessed_data_eeg.fif, 19 x 46597 (466.0 s), ~6.8 MB, data loaded>",
      "text/html": "<script type=\"text/javascript\">\n    const toggleVisibility = (className) => {\n\n  const elements = document.querySelectorAll(`.${className}`)\n\n  elements.forEach(element => {\n    if (element.classList.contains('repr-section-header')) {\n      // Don't collapse the section header row.\n       return\n    }\n    if (element.classList.contains('repr-element-collapsed')) {\n      // Force a reflow to ensure the display change takes effect before removing the class\n      element.classList.remove('repr-element-collapsed')\n      element.offsetHeight // This forces the browser to recalculate layout\n      element.classList.remove('repr-element-faded')\n    } else {\n      // Start transition to hide the element\n      element.classList.add('repr-element-faded')\n      element.addEventListener('transitionend', handler = (e) => {\n        if (e.propertyName === 'opacity' && getComputedStyle(element).opacity === '0.2') {\n          element.classList.add('repr-element-collapsed')\n          element.removeEventListener('transitionend', handler)\n        }\n      });\n    }\n  });\n\n  // Take care of button (adjust caret)\n  const button = document.querySelectorAll(`.repr-section-header.${className} > th.repr-section-toggle-col > button`)[0]\n  button.classList.toggle('collapsed')\n\n  // Take care of the tooltip of the section header row\n  const sectionHeaderRow = document.querySelectorAll(`tr.repr-section-header.${className}`)[0]\n  sectionHeaderRow.classList.toggle('collapsed')\n  sectionHeaderRow.title = sectionHeaderRow.title === 'Hide section' ? 'Show section' : 'Hide section'\n}\n</script>\n\n<style type=\"text/css\">\n    table.repr.table.table-hover.table-striped.table-sm.table-responsive.small {\n  /* Don't make rows wider than they need to be. */\n  display: inline;\n}\n\ntable > tbody > tr.repr-element > td {\n  /* Apply a tighter layout to the table cells. */\n  padding-top: 0.1rem;\n  padding-bottom: 0.1rem;\n  padding-right: 1rem;\n}\n\ntable > tbody > tr > td.repr-section-toggle-col {\n  /* Remove background and border of the first cell in every row\n     (this row is only used for the collapse / uncollapse caret)\n\n     TODO: Need to find a good solution for VS Code that works in both\n           light and dark mode. */\n  border-color: transparent;\n  --bs-table-accent-bg: transparent;\n}\n\ntr.repr-section-header {\n  /* Remove stripes from section header rows */\n  background-color: transparent;\n  border-color: transparent;\n  --bs-table-striped-bg: transparent;\n  cursor: pointer;\n}\n\ntr.repr-section-header > th {\n  text-align: left !important;\n  vertical-align: middle;\n}\n\n.repr-element, tr.repr-element > td {\n  opacity: 1;\n  text-align: left !important;\n}\n\n.repr-element-faded {\n  transition: 0.3s ease;\n  opacity: 0.2;\n}\n\n.repr-element-collapsed {\n  display: none;\n}\n\n/* Collapse / uncollapse button and the caret it contains. */\n.repr-section-toggle-col button {\n  cursor: pointer;\n  width: 1rem;\n  background-color: transparent;\n  border-color: transparent;\n}\n\nspan.collapse-uncollapse-caret {\n  width: 1rem;\n  height: 1rem;\n  display: block;\n  background-repeat: no-repeat;\n  background-position: left;\n  background-size: contain;\n}\n\n/* The collapse / uncollapse carets were copied from the free Font Awesome collection and adjusted. */\n\n/* Default to black carets for light mode */\n.repr-section-toggle-col > button.collapsed > span.collapse-uncollapse-caret {\n  background-image: url('data:image/svg+xml;charset=utf8,<svg xmlns=\"http://www.w3.org/2000/svg\" viewBox=\"0 0 256 512\"><!--!Font Awesome Free 6.5.2 by @fontawesome - https://fontawesome.com License - https://fontawesome.com/license/free Copyright 2024 Fonticons, Inc.--><path fill=\"black\" d=\"M246.6 278.6c12.5-12.5 12.5-32.8 0-45.3l-128-128c-9.2-9.2-22.9-11.9-34.9-6.9s-19.8 16.6-19.8 29.6l0 256c0 12.9 7.8 24.6 19.8 29.6s25.7 2.2 34.9-6.9l128-128z\"/></svg>');\n}\n\n.repr-section-toggle-col\n  > button:not(.collapsed)\n  > span.collapse-uncollapse-caret {\n  background-image: url('data:image/svg+xml;charset=utf8,<svg xmlns=\"http://www.w3.org/2000/svg\" viewBox=\"0 0 320 512\"><!--!Font Awesome Free 6.5.2 by @fontawesome - https://fontawesome.com License - https://fontawesome.com/license/free Copyright 2024 Fonticons, Inc.--><path fill=\"black\" d=\"M137.4 374.6c12.5 12.5 32.8 12.5 45.3 0l128-128c9.2-9.2 11.9-22.9 6.9-34.9s-16.6-19.8-29.6-19.8L32 192c-12.9 0-24.6 7.8-29.6 19.8s-2.2 25.7 6.9 34.9l128 128z\"/></svg>');\n}\n\n/* Use white carets for dark mode */\n@media (prefers-color-scheme: dark) {\n  .repr-section-toggle-col > button.collapsed > span.collapse-uncollapse-caret {\n    background-image: url('data:image/svg+xml;charset=utf8,<svg xmlns=\"http://www.w3.org/2000/svg\" viewBox=\"0 0 256 512\"><!--!Font Awesome Free 6.5.2 by @fontawesome - https://fontawesome.com License - https://fontawesome.com/license/free Copyright 2024 Fonticons, Inc.--><path fill=\"white\" d=\"M246.6 278.6c12.5-12.5 12.5-32.8 0-45.3l-128-128c-9.2-9.2-22.9-11.9-34.9-6.9s-19.8 16.6-19.8 29.6l0 256c0 12.9 7.8 24.6 19.8 29.6s25.7 2.2 34.9-6.9l128-128z\"/></svg>');\n  }\n\n  .repr-section-toggle-col\n    > button:not(.collapsed)\n    > span.collapse-uncollapse-caret {\n    background-image: url('data:image/svg+xml;charset=utf8,<svg xmlns=\"http://www.w3.org/2000/svg\" viewBox=\"0 0 320 512\"><!--!Font Awesome Free 6.5.2 by @fontawesome - https://fontawesome.com License - https://fontawesome.com/license/free Copyright 2024 Fonticons, Inc.--><path fill=\"white\" d=\"M137.4 374.6c12.5 12.5 32.8 12.5 45.3 0l128-128c9.2-9.2 11.9-22.9 6.9-34.9s-16.6-19.8-29.6-19.8L32 192c-12.9 0-24.6 7.8-29.6 19.8s-2.2 25.7 6.9 34.9l128 128z\"/></svg>');\n  }\n}\n\n.channel-names-btn {\n  padding: 0;\n  border: none;\n  background: none;\n  text-decoration: underline;\n  text-decoration-style: dashed;\n  cursor: pointer;\n  color: #0d6efd;\n}\n\n.channel-names-btn:hover {\n  color: #0a58ca;\n}\n</style>\n\n\n\n<table class=\"repr table table-hover table-striped table-sm table-responsive small\">\n    \n\n\n\n\n\n\n\n<tr class=\"repr-section-header general-b917f0cd-5d46-4f0b-8998-35a736f301bf\"  title=\"Hide section\" \n    onclick=\"toggleVisibility('general-b917f0cd-5d46-4f0b-8998-35a736f301bf')\">\n    <th class=\"repr-section-toggle-col\">\n        <button>\n            \n            <span class=\"collapse-uncollapse-caret\"></span>\n        </button>\n    </th>\n    <th colspan=\"2\">\n        <strong>General</strong>\n    </th>\n</tr>\n\n<tr class=\"repr-element general-b917f0cd-5d46-4f0b-8998-35a736f301bf \">\n    <td class=\"repr-section-toggle-col\"></td>\n    <td>Filename(s)</td>\n    <td>\n        \n        preprocessed_data_eeg.fif\n        \n        \n    </td>\n</tr>\n\n<tr class=\"repr-element general-b917f0cd-5d46-4f0b-8998-35a736f301bf \">\n    <td class=\"repr-section-toggle-col\"></td>\n    <td>MNE object type</td>\n    <td>Raw</td>\n</tr>\n<tr class=\"repr-element general-b917f0cd-5d46-4f0b-8998-35a736f301bf \">\n    <td class=\"repr-section-toggle-col\"></td>\n    <td>Measurement date</td>\n    \n    <td>Unknown</td>\n    \n</tr>\n<tr class=\"repr-element general-b917f0cd-5d46-4f0b-8998-35a736f301bf \">\n    <td class=\"repr-section-toggle-col\"></td>\n    <td>Participant</td>\n    \n    <td>Unknown</td>\n    \n</tr>\n<tr class=\"repr-element general-b917f0cd-5d46-4f0b-8998-35a736f301bf \">\n    <td class=\"repr-section-toggle-col\"></td>\n    <td>Experimenter</td>\n    \n    <td>Unknown</td>\n    \n</tr>\n    \n\n\n\n\n\n\n\n<tr class=\"repr-section-header acquisition-82ceb5a5-cf53-4dfb-9bc9-5f9fc8cb7d39\" \n    title=\"Hide section\"  onclick=\"toggleVisibility('acquisition-82ceb5a5-cf53-4dfb-9bc9-5f9fc8cb7d39')\">\n    <th class=\"repr-section-toggle-col\">\n        <button>\n            \n            <span class=\"collapse-uncollapse-caret\"></span>\n        </button>\n    </th>\n    <th colspan=\"2\">\n        <strong>Acquisition</strong>\n    </th>\n</tr>\n\n<tr class=\"repr-element acquisition-82ceb5a5-cf53-4dfb-9bc9-5f9fc8cb7d39 \">\n    <td class=\"repr-section-toggle-col\"></td>\n    <td>Duration</td>\n    <td>00:07:46 (HH:MM:SS)</td>\n</tr>\n\n\n\n\n\n\n\n\n<tr class=\"repr-element acquisition-82ceb5a5-cf53-4dfb-9bc9-5f9fc8cb7d39 \">\n    <td class=\"repr-section-toggle-col\"></td>\n    <td>Sampling frequency</td>\n    <td>100.00 Hz</td>\n</tr>\n\n\n<tr class=\"repr-element acquisition-82ceb5a5-cf53-4dfb-9bc9-5f9fc8cb7d39 \">\n    <td class=\"repr-section-toggle-col\"></td>\n    <td>Time points</td>\n    <td>46,597</td>\n</tr>\n\n\n    \n\n\n\n\n\n\n\n<tr class=\"repr-section-header channels-254e6d7a-4054-4423-9418-877a1244760e\"  title=\"Hide section\" \n    onclick=\"toggleVisibility('channels-254e6d7a-4054-4423-9418-877a1244760e')\">\n    <th class=\"repr-section-toggle-col\">\n        <button>\n            \n            <span class=\"collapse-uncollapse-caret\"></span>\n        </button>\n    </th>\n    <th colspan=\"2\">\n        <strong>Channels</strong>\n    </th>\n</tr>\n\n\n<tr class=\"repr-element channels-254e6d7a-4054-4423-9418-877a1244760e \">\n    <td class=\"repr-section-toggle-col\"></td>\n    <td>EEG</td>\n    <td>\n        <button class=\"channel-names-btn\" onclick=\"alert('Good EEG:\\n\\nFp1, Fp2, F7, F3, Fz, F4, F8, T7, C3, Cz, C4, T8, P7, P3, Pz, P4, P8, O1, O2')\" title=\"(Click to open in popup)&#13;&#13;Fp1, Fp2, F7, F3, Fz, F4, F8, T7, C3, Cz, C4, T8, P7, P3, Pz, P4, P8, O1, O2\">\n            19\n        </button>\n\n        \n    </td>\n</tr>\n\n\n<tr class=\"repr-element channels-254e6d7a-4054-4423-9418-877a1244760e \">\n    <td class=\"repr-section-toggle-col\"></td>\n    <td>Head & sensor digitization</td>\n    \n    <td>22 points</td>\n    \n</tr>\n    \n\n\n\n\n\n\n\n<tr class=\"repr-section-header filters-93c8a826-e074-4c41-b86e-31dd4fd46092\"  title=\"Hide section\" \n    onclick=\"toggleVisibility('filters-93c8a826-e074-4c41-b86e-31dd4fd46092')\">\n    <th class=\"repr-section-toggle-col\">\n        <button>\n            \n            <span class=\"collapse-uncollapse-caret\"></span>\n        </button>\n    </th>\n    <th colspan=\"2\">\n        <strong>Filters</strong>\n    </th>\n</tr>\n\n<tr class=\"repr-element filters-93c8a826-e074-4c41-b86e-31dd4fd46092 \">\n    <td class=\"repr-section-toggle-col\"></td>\n    <td>Highpass</td>\n    <td>1.00 Hz</td>\n</tr>\n\n\n<tr class=\"repr-element filters-93c8a826-e074-4c41-b86e-31dd4fd46092 \">\n    <td class=\"repr-section-toggle-col\"></td>\n    <td>Lowpass</td>\n    <td>50.00 Hz</td>\n</tr>\n\n\n</table>"
     },
     "execution_count": 9,
     "metadata": {},
     "output_type": "execute_result"
    }
   ],
   "source": [
    "#Importing data\n",
    "raw = mne.io.read_raw_eeglab(raw_data_path, preload=True)\n",
    "raw.load_data()\n",
    "\n",
    "preprocessed = mne.io.read_raw(preprocessed_data_path, preload=True)\n",
    "preprocessed.load_data()"
   ],
   "metadata": {
    "collapsed": false,
    "ExecuteTime": {
     "end_time": "2024-12-04T14:46:06.252644Z",
     "start_time": "2024-12-04T14:46:06.175934200Z"
    }
   },
   "id": "d282910cb7a17eaf",
   "execution_count": 9
  },
  {
   "cell_type": "code",
   "outputs": [
    {
     "name": "stdout",
     "output_type": "stream",
     "text": [
      "Using matplotlib as 2D backend.\n"
     ]
    },
    {
     "data": {
      "text/plain": "Text(0.5, 0.98, 'Filtered low frequency')"
     },
     "execution_count": 5,
     "metadata": {},
     "output_type": "execute_result"
    }
   ],
   "source": [
    "# Построение графика исходных \"сырых\" данных\n",
    "fig_raw = raw.plot(duration=30,remove_dc=False, title='Raw EEG Data')\n",
    "fig_raw.suptitle(\"Raw Data\")\n",
    "\n",
    "# Построение графика предобработанных данных\n",
    "fig = preprocessed.plot(duration=30,remove_dc=False)\n",
    "fig.suptitle(\"Preprocessed Data\") "
   ],
   "metadata": {
    "collapsed": false,
    "ExecuteTime": {
     "end_time": "2024-12-04T14:40:46.049884Z",
     "start_time": "2024-12-04T14:40:45.010472300Z"
    }
   },
   "id": "2ac92ed1859eefbf",
   "execution_count": 5
  },
  {
   "cell_type": "code",
   "outputs": [
    {
     "name": "stdout",
     "output_type": "stream",
     "text": [
      "Effective window size : 20.480 (s)\n",
      "Plotting power spectral density (dB=True).\n",
      "Effective window size : 20.480 (s)\n",
      "Plotting power spectral density (dB=True).\n"
     ]
    },
    {
     "data": {
      "text/plain": "Text(0.5, 0.98, 'Preprocessed Data PSD')"
     },
     "execution_count": 10,
     "metadata": {},
     "output_type": "execute_result"
    }
   ],
   "source": [
    "# Spectral density of continuous data\n",
    "spectrum_filtered = raw.compute_psd()\n",
    "fig = spectrum_filtered.plot(average=True, picks=\"eeg\")\n",
    "fig.suptitle(\"Raw Data PSD\") \n",
    "\n",
    "spectrum_filtered = preprocessed.compute_psd()\n",
    "fig = spectrum_filtered.plot(average=True, picks=\"eeg\")\n",
    "fig.suptitle(\"Preprocessed Data PSD\") "
   ],
   "metadata": {
    "collapsed": false,
    "ExecuteTime": {
     "end_time": "2024-12-04T14:46:08.799232800Z",
     "start_time": "2024-12-04T14:46:08.499963Z"
    }
   },
   "id": "7fe131d403798ab1",
   "execution_count": 10
  },
  {
   "cell_type": "code",
   "outputs": [],
   "source": [],
   "metadata": {
    "collapsed": false,
    "ExecuteTime": {
     "end_time": "2024-11-28T08:36:12.143356300Z",
     "start_time": "2024-11-28T08:36:12.129110700Z"
    }
   },
   "id": "bd45e55089afef5a",
   "execution_count": 14
  }
 ],
 "metadata": {
  "kernelspec": {
   "display_name": "Python 3",
   "language": "python",
   "name": "python3"
  },
  "language_info": {
   "codemirror_mode": {
    "name": "ipython",
    "version": 2
   },
   "file_extension": ".py",
   "mimetype": "text/x-python",
   "name": "python",
   "nbconvert_exporter": "python",
   "pygments_lexer": "ipython2",
   "version": "2.7.6"
  }
 },
 "nbformat": 4,
 "nbformat_minor": 5
}

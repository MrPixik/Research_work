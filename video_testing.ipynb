{
 "cells": [
  {
   "cell_type": "markdown",
   "source": [],
   "metadata": {
    "collapsed": false
   },
   "id": "f573ae9ca507cf54"
  },
  {
   "cell_type": "code",
   "outputs": [
    {
     "name": "stderr",
     "output_type": "stream",
     "text": [
      "Processing video: 100%|██████████| 6/6 [00:19<00:00,  3.20s/it]\n",
      "Processing video: 100%|██████████| 27/27 [00:50<00:00,  1.85s/it]\n",
      "Processing video: 100%|██████████| 150/150 [02:05<00:00,  1.20it/s]\n",
      "Processing video:  41%|████      | 164/400 [17:09<23:17,  5.92s/it]"
     ]
    }
   ],
   "source": [
    "from app.models.Video_contour_detection import Video_contour_detection\n",
    "\n",
    "video_dict = {\n",
    "    r'static/videos/origin/1.mp4': r'static/videos/result/1.mp4'\n",
    "}\n",
    "\n",
    "original_videos = [r'static/videos/origin/1.mp4',\n",
    "                   r'static/videos/origin/2.mp4',\n",
    "                   r'static/videos/origin/3.mp4',\n",
    "                   r'static/videos/origin/4.mp4',\n",
    "                   r'static/videos/origin/5.mp4']\n",
    "\n",
    "vd = Video_contour_detection()\n",
    "\n",
    "for origin_video in original_videos:\n",
    "    vd.sobel_edge_detection(origin_video, 5,3,50)"
   ],
   "metadata": {
    "collapsed": false,
    "is_executing": true,
    "ExecuteTime": {
     "start_time": "2024-10-10T12:50:11.053799100Z"
    }
   },
   "id": "6abc09f9e9775a9c",
   "execution_count": null
  },
  {
   "cell_type": "markdown",
   "source": [],
   "metadata": {
    "collapsed": false
   },
   "id": "f054edba751986e3"
  },
  {
   "cell_type": "code",
   "outputs": [],
   "source": [
    "for origin_video in original_videos:\n",
    "    vd.edges_marr_hildreth(origin_video,2,0.05)"
   ],
   "metadata": {
    "collapsed": false,
    "is_executing": true
   },
   "id": "bd8d47aae39d8d45",
   "execution_count": null
  },
  {
   "cell_type": "code",
   "outputs": [],
   "source": [
    "for origin_video in original_videos:\n",
    "    vd.canny_edge(origin_video,3,5,20,120)"
   ],
   "metadata": {
    "collapsed": false,
    "is_executing": true
   },
   "id": "487c89c51b09c3e6",
   "execution_count": null
  }
 ],
 "metadata": {
  "kernelspec": {
   "display_name": "Python 3",
   "language": "python",
   "name": "python3"
  },
  "language_info": {
   "codemirror_mode": {
    "name": "ipython",
    "version": 2
   },
   "file_extension": ".py",
   "mimetype": "text/x-python",
   "name": "python",
   "nbconvert_exporter": "python",
   "pygments_lexer": "ipython2",
   "version": "2.7.6"
  }
 },
 "nbformat": 4,
 "nbformat_minor": 5
}

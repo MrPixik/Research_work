{
 "cells": [
  {
   "cell_type": "markdown",
   "source": [],
   "metadata": {
    "collapsed": false
   },
   "id": "f573ae9ca507cf54"
  },
  {
   "cell_type": "code",
   "outputs": [
    {
     "name": "stderr",
     "output_type": "stream",
     "text": [
      "Processing video: 100%|██████████| 6/6 [00:00<00:00, 164.27it/s]\n",
      "Processing video: 100%|██████████| 27/27 [00:00<00:00, 286.86it/s]\n",
      "Processing video: 100%|██████████| 150/150 [00:00<00:00, 984.67it/s]\n",
      "Processing video: 100%|██████████| 400/400 [00:03<00:00, 107.03it/s]\n",
      "Processing video: 100%|██████████| 1116/1116 [00:18<00:00, 58.94it/s]\n"
     ]
    }
   ],
   "source": [
    "from app.models.Video_contour_detection import *\n",
    "video_dict = {\n",
    "    r'static/videos/origin/1.mp4': r'static/videos/result/1.mp4'\n",
    "}\n",
    "\n",
    "original_videos = [r'static/videos/origin/1.mp4',\n",
    "                   r'static/videos/origin/2.mp4',\n",
    "                   r'static/videos/origin/3.mp4',\n",
    "                   r'static/videos/origin/4.mp4',\n",
    "                   r'static/videos/origin/5.mp4']\n",
    "\n",
    "vd = Video_contour_detection()\n",
    "\n",
    "for origin_video in original_videos:\n",
    "    vd.sobel_edges(origin_video,3,0.05)"
   ],
   "metadata": {
    "collapsed": false,
    "ExecuteTime": {
     "end_time": "2024-10-23T14:43:06.243464700Z",
     "start_time": "2024-10-23T14:42:42.275889300Z"
    }
   },
   "id": "6abc09f9e9775a9c",
   "execution_count": 1
  },
  {
   "cell_type": "markdown",
   "source": [],
   "metadata": {
    "collapsed": false
   },
   "id": "f054edba751986e3"
  },
  {
   "cell_type": "code",
   "outputs": [],
   "source": [
    "for origin_video in original_videos:\n",
    "    vd.canny_edges(origin_video,3,5,20,120)"
   ],
   "metadata": {
    "collapsed": false
   },
   "id": "bd8d47aae39d8d45",
   "execution_count": null
  },
  {
   "cell_type": "code",
   "outputs": [],
   "source": [
    "for origin_video in original_videos:\n",
    "    vd.marr_hildreth_edges(origin_video,2,0.05)"
   ],
   "metadata": {
    "collapsed": false
   },
   "id": "487c89c51b09c3e6",
   "execution_count": null
  }
 ],
 "metadata": {
  "kernelspec": {
   "display_name": "Python 3",
   "language": "python",
   "name": "python3"
  },
  "language_info": {
   "codemirror_mode": {
    "name": "ipython",
    "version": 2
   },
   "file_extension": ".py",
   "mimetype": "text/x-python",
   "name": "python",
   "nbconvert_exporter": "python",
   "pygments_lexer": "ipython2",
   "version": "2.7.6"
  }
 },
 "nbformat": 4,
 "nbformat_minor": 5
}
